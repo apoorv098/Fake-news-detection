{
  "nbformat": 4,
  "nbformat_minor": 0,
  "metadata": {
    "colab": {
      "name": "MLProject(18-12) LSTM.ipynb",
      "provenance": []
    },
    "kernelspec": {
      "display_name": "Python 3",
      "language": "python",
      "name": "python3"
    },
    "language_info": {
      "codemirror_mode": {
        "name": "ipython",
        "version": 3
      },
      "file_extension": ".py",
      "mimetype": "text/x-python",
      "name": "python",
      "nbconvert_exporter": "python",
      "pygments_lexer": "ipython3",
      "version": "3.8.3"
    },
    "accelerator": "GPU"
  },
  "cells": [
    {
      "cell_type": "markdown",
      "metadata": {
        "id": "j0d2A0ML_1Yh"
      },
      "source": [
        "### **Importing libraries**"
      ]
    },
    {
      "cell_type": "code",
      "metadata": {
        "id": "LISRcIT91knd"
      },
      "source": [
        "import pandas as pd\n",
        "import numpy as np\n",
        "from wordcloud import WordCloud\n",
        "import seaborn as sns\n",
        "import warnings\n",
        "import matplotlib.pyplot as plt\n",
        "from sklearn.feature_extraction.text import TfidfVectorizer\n",
        "from sklearn.model_selection import train_test_split\n",
        "from sklearn.linear_model import LogisticRegressionCV\n",
        "from sklearn.linear_model import LogisticRegression\n",
        "from sklearn.pipeline import Pipeline\n",
        "from sklearn.feature_extraction.text import CountVectorizer\n",
        "from sklearn.feature_extraction.text import TfidfTransformer\n",
        "from sklearn.metrics import accuracy_score, confusion_matrix,classification_report\n",
        "warnings.filterwarnings('ignore')\n",
        "import nltk\n",
        "from nltk.tokenize import word_tokenize\n",
        "from tensorflow.keras.models import Sequential\n",
        "from tensorflow.keras.layers import Dense, Embedding, LSTM, Conv1D, MaxPool1D\n",
        "from nltk.corpus import stopwords\n",
        "from keras.preprocessing import text, sequence\n",
        "from keras.layers import Dense, Embedding, LSTM, SpatialDropout1D\n"
      ],
      "execution_count": 1,
      "outputs": []
    },
    {
      "cell_type": "markdown",
      "metadata": {
        "id": "VFB8u5W4_7Ow"
      },
      "source": [
        "### **Integrating with google drive**"
      ]
    },
    {
      "cell_type": "code",
      "metadata": {
        "colab": {
          "base_uri": "https://localhost:8080/"
        },
        "id": "daJzxCemBFN_",
        "outputId": "78ac7456-8e14-4d06-cb0b-380f782b35fc"
      },
      "source": [
        "from google.colab import drive\r\n",
        "drive.mount('/content/drive')"
      ],
      "execution_count": 2,
      "outputs": [
        {
          "output_type": "stream",
          "text": [
            "Mounted at /content/drive\n"
          ],
          "name": "stdout"
        }
      ]
    },
    {
      "cell_type": "markdown",
      "metadata": {
        "id": "etAin0BaAJkx"
      },
      "source": [
        "### **Data Loading**"
      ]
    },
    {
      "cell_type": "code",
      "metadata": {
        "id": "MS0kEdWs1knm"
      },
      "source": [
        "header_list = [\"ID\", \"label\", \"statement\",\"subject\",\"speaker\",\"title of speaker\",\"state\",\"party\",\"barely true\",\"false\",\"half true\",\"mostly true\",\"pants on fire\",\"venue\"]"
      ],
      "execution_count": 3,
      "outputs": []
    },
    {
      "cell_type": "code",
      "metadata": {
        "id": "3NGzLW-h1knn"
      },
      "source": [
        "train_dataset = pd.read_csv(\"/content/drive/MyDrive/MLProject/train.tsv\",delimiter='\\t',names=header_list)\n",
        "valid_dataset = pd.read_csv(\"/content/drive/MyDrive/MLProject/valid.tsv\",delimiter='\\t',names=header_list)\n",
        "test_dataset = pd.read_csv(\"/content/drive/MyDrive/MLProject/test.tsv\",delimiter='\\t',names=header_list)"
      ],
      "execution_count": 4,
      "outputs": []
    },
    {
      "cell_type": "code",
      "metadata": {
        "colab": {
          "base_uri": "https://localhost:8080/"
        },
        "id": "fxdHcFh21kno",
        "outputId": "eecf48b5-e3eb-4e07-c408-2475ce3bd8e3"
      },
      "source": [
        "print(train_dataset.shape)\n",
        "print(valid_dataset.shape)\n",
        "print(test_dataset.shape)"
      ],
      "execution_count": 5,
      "outputs": [
        {
          "output_type": "stream",
          "text": [
            "(10240, 14)\n",
            "(1284, 14)\n",
            "(1267, 14)\n"
          ],
          "name": "stdout"
        }
      ]
    },
    {
      "cell_type": "code",
      "metadata": {
        "id": "Jqhydd-e1knp"
      },
      "source": [
        "Dataset = pd.concat([train_dataset,valid_dataset,test_dataset], ignore_index=True)"
      ],
      "execution_count": 6,
      "outputs": []
    },
    {
      "cell_type": "markdown",
      "metadata": {
        "id": "-YeVrzeL1knq"
      },
      "source": [
        "### **Dataset Statistics and Visulization**"
      ]
    },
    {
      "cell_type": "code",
      "metadata": {
        "colab": {
          "base_uri": "https://localhost:8080/",
          "height": 690
        },
        "id": "2wlkv3831knq",
        "outputId": "620818e6-8fdd-4bd5-e40c-6e28a65c57ad"
      },
      "source": [
        "Dataset"
      ],
      "execution_count": 7,
      "outputs": [
        {
          "output_type": "execute_result",
          "data": {
            "text/html": [
              "<div>\n",
              "<style scoped>\n",
              "    .dataframe tbody tr th:only-of-type {\n",
              "        vertical-align: middle;\n",
              "    }\n",
              "\n",
              "    .dataframe tbody tr th {\n",
              "        vertical-align: top;\n",
              "    }\n",
              "\n",
              "    .dataframe thead th {\n",
              "        text-align: right;\n",
              "    }\n",
              "</style>\n",
              "<table border=\"1\" class=\"dataframe\">\n",
              "  <thead>\n",
              "    <tr style=\"text-align: right;\">\n",
              "      <th></th>\n",
              "      <th>ID</th>\n",
              "      <th>label</th>\n",
              "      <th>statement</th>\n",
              "      <th>subject</th>\n",
              "      <th>speaker</th>\n",
              "      <th>title of speaker</th>\n",
              "      <th>state</th>\n",
              "      <th>party</th>\n",
              "      <th>barely true</th>\n",
              "      <th>false</th>\n",
              "      <th>half true</th>\n",
              "      <th>mostly true</th>\n",
              "      <th>pants on fire</th>\n",
              "      <th>venue</th>\n",
              "    </tr>\n",
              "  </thead>\n",
              "  <tbody>\n",
              "    <tr>\n",
              "      <th>0</th>\n",
              "      <td>2635.json</td>\n",
              "      <td>false</td>\n",
              "      <td>Says the Annies List political group supports ...</td>\n",
              "      <td>abortion</td>\n",
              "      <td>dwayne-bohac</td>\n",
              "      <td>State representative</td>\n",
              "      <td>Texas</td>\n",
              "      <td>republican</td>\n",
              "      <td>0.0</td>\n",
              "      <td>1.0</td>\n",
              "      <td>0.0</td>\n",
              "      <td>0.0</td>\n",
              "      <td>0.0</td>\n",
              "      <td>a mailer</td>\n",
              "    </tr>\n",
              "    <tr>\n",
              "      <th>1</th>\n",
              "      <td>10540.json</td>\n",
              "      <td>half-true</td>\n",
              "      <td>When did the decline of coal start? It started...</td>\n",
              "      <td>energy,history,job-accomplishments</td>\n",
              "      <td>scott-surovell</td>\n",
              "      <td>State delegate</td>\n",
              "      <td>Virginia</td>\n",
              "      <td>democrat</td>\n",
              "      <td>0.0</td>\n",
              "      <td>0.0</td>\n",
              "      <td>1.0</td>\n",
              "      <td>1.0</td>\n",
              "      <td>0.0</td>\n",
              "      <td>a floor speech.</td>\n",
              "    </tr>\n",
              "    <tr>\n",
              "      <th>2</th>\n",
              "      <td>324.json</td>\n",
              "      <td>mostly-true</td>\n",
              "      <td>Hillary Clinton agrees with John McCain \"by vo...</td>\n",
              "      <td>foreign-policy</td>\n",
              "      <td>barack-obama</td>\n",
              "      <td>President</td>\n",
              "      <td>Illinois</td>\n",
              "      <td>democrat</td>\n",
              "      <td>70.0</td>\n",
              "      <td>71.0</td>\n",
              "      <td>160.0</td>\n",
              "      <td>163.0</td>\n",
              "      <td>9.0</td>\n",
              "      <td>Denver</td>\n",
              "    </tr>\n",
              "    <tr>\n",
              "      <th>3</th>\n",
              "      <td>1123.json</td>\n",
              "      <td>false</td>\n",
              "      <td>Health care reform legislation is likely to ma...</td>\n",
              "      <td>health-care</td>\n",
              "      <td>blog-posting</td>\n",
              "      <td>NaN</td>\n",
              "      <td>NaN</td>\n",
              "      <td>none</td>\n",
              "      <td>7.0</td>\n",
              "      <td>19.0</td>\n",
              "      <td>3.0</td>\n",
              "      <td>5.0</td>\n",
              "      <td>44.0</td>\n",
              "      <td>a news release</td>\n",
              "    </tr>\n",
              "    <tr>\n",
              "      <th>4</th>\n",
              "      <td>9028.json</td>\n",
              "      <td>half-true</td>\n",
              "      <td>The economic turnaround started at the end of ...</td>\n",
              "      <td>economy,jobs</td>\n",
              "      <td>charlie-crist</td>\n",
              "      <td>NaN</td>\n",
              "      <td>Florida</td>\n",
              "      <td>democrat</td>\n",
              "      <td>15.0</td>\n",
              "      <td>9.0</td>\n",
              "      <td>20.0</td>\n",
              "      <td>19.0</td>\n",
              "      <td>2.0</td>\n",
              "      <td>an interview on CNN</td>\n",
              "    </tr>\n",
              "    <tr>\n",
              "      <th>...</th>\n",
              "      <td>...</td>\n",
              "      <td>...</td>\n",
              "      <td>...</td>\n",
              "      <td>...</td>\n",
              "      <td>...</td>\n",
              "      <td>...</td>\n",
              "      <td>...</td>\n",
              "      <td>...</td>\n",
              "      <td>...</td>\n",
              "      <td>...</td>\n",
              "      <td>...</td>\n",
              "      <td>...</td>\n",
              "      <td>...</td>\n",
              "      <td>...</td>\n",
              "    </tr>\n",
              "    <tr>\n",
              "      <th>12786</th>\n",
              "      <td>7334.json</td>\n",
              "      <td>half-true</td>\n",
              "      <td>Says his budget provides the highest state fun...</td>\n",
              "      <td>education</td>\n",
              "      <td>rick-scott</td>\n",
              "      <td>Governor</td>\n",
              "      <td>Florida</td>\n",
              "      <td>republican</td>\n",
              "      <td>28.0</td>\n",
              "      <td>23.0</td>\n",
              "      <td>38.0</td>\n",
              "      <td>34.0</td>\n",
              "      <td>7.0</td>\n",
              "      <td>a news conference</td>\n",
              "    </tr>\n",
              "    <tr>\n",
              "      <th>12787</th>\n",
              "      <td>9788.json</td>\n",
              "      <td>barely-true</td>\n",
              "      <td>Ive been here almost every day.</td>\n",
              "      <td>civil-rights,crime,criminal-justice</td>\n",
              "      <td>jay-nixon</td>\n",
              "      <td>Governor</td>\n",
              "      <td>Missouri</td>\n",
              "      <td>democrat</td>\n",
              "      <td>2.0</td>\n",
              "      <td>0.0</td>\n",
              "      <td>0.0</td>\n",
              "      <td>1.0</td>\n",
              "      <td>0.0</td>\n",
              "      <td>on ABC's \"This Week\"</td>\n",
              "    </tr>\n",
              "    <tr>\n",
              "      <th>12788</th>\n",
              "      <td>10710.json</td>\n",
              "      <td>barely-true</td>\n",
              "      <td>In the early 1980s, Sen. Edward Kennedy secret...</td>\n",
              "      <td>bipartisanship,congress,foreign-policy,history</td>\n",
              "      <td>mackubin-thomas-owens</td>\n",
              "      <td>senior fellow, Foreign Policy Research Institute</td>\n",
              "      <td>Rhode Island</td>\n",
              "      <td>columnist</td>\n",
              "      <td>1.0</td>\n",
              "      <td>0.0</td>\n",
              "      <td>0.0</td>\n",
              "      <td>0.0</td>\n",
              "      <td>0.0</td>\n",
              "      <td>a commentary in The Providence Journal</td>\n",
              "    </tr>\n",
              "    <tr>\n",
              "      <th>12789</th>\n",
              "      <td>3186.json</td>\n",
              "      <td>barely-true</td>\n",
              "      <td>Says an EPA permit languished under Strickland...</td>\n",
              "      <td>environment,government-efficiency</td>\n",
              "      <td>john-kasich</td>\n",
              "      <td>Governor of Ohio as of Jan. 10, 2011</td>\n",
              "      <td>Ohio</td>\n",
              "      <td>republican</td>\n",
              "      <td>9.0</td>\n",
              "      <td>8.0</td>\n",
              "      <td>10.0</td>\n",
              "      <td>18.0</td>\n",
              "      <td>3.0</td>\n",
              "      <td>a news conference</td>\n",
              "    </tr>\n",
              "    <tr>\n",
              "      <th>12790</th>\n",
              "      <td>6743.json</td>\n",
              "      <td>false</td>\n",
              "      <td>Says the governor is going around the state ta...</td>\n",
              "      <td>state-budget,state-finances,taxes</td>\n",
              "      <td>john-burzichelli</td>\n",
              "      <td>NaN</td>\n",
              "      <td>NaN</td>\n",
              "      <td>democrat</td>\n",
              "      <td>1.0</td>\n",
              "      <td>1.0</td>\n",
              "      <td>0.0</td>\n",
              "      <td>0.0</td>\n",
              "      <td>0.0</td>\n",
              "      <td>an interview with NJToday</td>\n",
              "    </tr>\n",
              "  </tbody>\n",
              "</table>\n",
              "<p>12791 rows × 14 columns</p>\n",
              "</div>"
            ],
            "text/plain": [
              "               ID  ...                                   venue\n",
              "0       2635.json  ...                                a mailer\n",
              "1      10540.json  ...                         a floor speech.\n",
              "2        324.json  ...                                  Denver\n",
              "3       1123.json  ...                          a news release\n",
              "4       9028.json  ...                     an interview on CNN\n",
              "...           ...  ...                                     ...\n",
              "12786   7334.json  ...                       a news conference\n",
              "12787   9788.json  ...                    on ABC's \"This Week\"\n",
              "12788  10710.json  ...  a commentary in The Providence Journal\n",
              "12789   3186.json  ...                       a news conference\n",
              "12790   6743.json  ...               an interview with NJToday\n",
              "\n",
              "[12791 rows x 14 columns]"
            ]
          },
          "metadata": {
            "tags": []
          },
          "execution_count": 7
        }
      ]
    },
    {
      "cell_type": "code",
      "metadata": {
        "colab": {
          "base_uri": "https://localhost:8080/"
        },
        "id": "HrP_K-4F1knr",
        "outputId": "ec3856d3-3fb5-4689-cb5d-49becfa587c7"
      },
      "source": [
        "Dataset.shape"
      ],
      "execution_count": 8,
      "outputs": [
        {
          "output_type": "execute_result",
          "data": {
            "text/plain": [
              "(12791, 14)"
            ]
          },
          "metadata": {
            "tags": []
          },
          "execution_count": 8
        }
      ]
    },
    {
      "cell_type": "code",
      "metadata": {
        "colab": {
          "base_uri": "https://localhost:8080/"
        },
        "id": "uoELQdFf1kns",
        "outputId": "36c71528-45c2-4fa2-d05c-7e23f1a9fab3"
      },
      "source": [
        "columns = Dataset.columns\n",
        "columns"
      ],
      "execution_count": 9,
      "outputs": [
        {
          "output_type": "execute_result",
          "data": {
            "text/plain": [
              "Index(['ID', 'label', 'statement', 'subject', 'speaker', 'title of speaker',\n",
              "       'state', 'party', 'barely true', 'false', 'half true', 'mostly true',\n",
              "       'pants on fire', 'venue'],\n",
              "      dtype='object')"
            ]
          },
          "metadata": {
            "tags": []
          },
          "execution_count": 9
        }
      ]
    },
    {
      "cell_type": "code",
      "metadata": {
        "colab": {
          "base_uri": "https://localhost:8080/"
        },
        "id": "FVw3DYst1kns",
        "outputId": "ab7cfa36-05f9-492e-b4ad-369986d199c9"
      },
      "source": [
        "Dataset['label'].value_counts()"
      ],
      "execution_count": 10,
      "outputs": [
        {
          "output_type": "execute_result",
          "data": {
            "text/plain": [
              "half-true      2627\n",
              "false          2507\n",
              "mostly-true    2454\n",
              "barely-true    2103\n",
              "true           2053\n",
              "pants-fire     1047\n",
              "Name: label, dtype: int64"
            ]
          },
          "metadata": {
            "tags": []
          },
          "execution_count": 10
        }
      ]
    },
    {
      "cell_type": "code",
      "metadata": {
        "colab": {
          "base_uri": "https://localhost:8080/",
          "height": 247
        },
        "id": "roOTntKZCA49",
        "outputId": "e616b0de-742b-4f6b-b59e-a2c055f15761"
      },
      "source": [
        "wc = WordCloud(background_color=\"black\", max_words=100,\r\n",
        "               max_font_size=200,\r\n",
        "               random_state=42, width=1000, height=1000)\r\n",
        "wc.generate(' '.join(Dataset['statement']))\r\n",
        "plt.imshow(wc, interpolation=\"bilinear\")\r\n",
        "plt.axis('off')\r\n",
        "plt.show()"
      ],
      "execution_count": 11,
      "outputs": [
        {
          "output_type": "display_data",
          "data": {
            "image/png": "[encoded data removed]",
            "text/plain": [
              "<Figure size 432x288 with 1 Axes>"
            ]
          },
          "metadata": {
            "tags": [],
            "needs_background": "light"
          }
        }
      ]
    },
    {
      "cell_type": "markdown",
      "metadata": {
        "id": "rLUlglGx1kns"
      },
      "source": [
        "### **Data Preprocessing**"
      ]
    },
    {
      "cell_type": "code",
      "metadata": {
        "colab": {
          "base_uri": "https://localhost:8080/",
          "height": 581
        },
        "id": "FG1WR-Dm1knt",
        "outputId": "2f3678e7-5936-4a23-a426-3787caeb8b22"
      },
      "source": [
        "Dataset.head(10)"
      ],
      "execution_count": 12,
      "outputs": [
        {
          "output_type": "execute_result",
          "data": {
            "text/html": [
              "<div>\n",
              "<style scoped>\n",
              "    .dataframe tbody tr th:only-of-type {\n",
              "        vertical-align: middle;\n",
              "    }\n",
              "\n",
              "    .dataframe tbody tr th {\n",
              "        vertical-align: top;\n",
              "    }\n",
              "\n",
              "    .dataframe thead th {\n",
              "        text-align: right;\n",
              "    }\n",
              "</style>\n",
              "<table border=\"1\" class=\"dataframe\">\n",
              "  <thead>\n",
              "    <tr style=\"text-align: right;\">\n",
              "      <th></th>\n",
              "      <th>ID</th>\n",
              "      <th>label</th>\n",
              "      <th>statement</th>\n",
              "      <th>subject</th>\n",
              "      <th>speaker</th>\n",
              "      <th>title of speaker</th>\n",
              "      <th>state</th>\n",
              "      <th>party</th>\n",
              "      <th>barely true</th>\n",
              "      <th>false</th>\n",
              "      <th>half true</th>\n",
              "      <th>mostly true</th>\n",
              "      <th>pants on fire</th>\n",
              "      <th>venue</th>\n",
              "    </tr>\n",
              "  </thead>\n",
              "  <tbody>\n",
              "    <tr>\n",
              "      <th>0</th>\n",
              "      <td>2635.json</td>\n",
              "      <td>false</td>\n",
              "      <td>Says the Annies List political group supports ...</td>\n",
              "      <td>abortion</td>\n",
              "      <td>dwayne-bohac</td>\n",
              "      <td>State representative</td>\n",
              "      <td>Texas</td>\n",
              "      <td>republican</td>\n",
              "      <td>0.0</td>\n",
              "      <td>1.0</td>\n",
              "      <td>0.0</td>\n",
              "      <td>0.0</td>\n",
              "      <td>0.0</td>\n",
              "      <td>a mailer</td>\n",
              "    </tr>\n",
              "    <tr>\n",
              "      <th>1</th>\n",
              "      <td>10540.json</td>\n",
              "      <td>half-true</td>\n",
              "      <td>When did the decline of coal start? It started...</td>\n",
              "      <td>energy,history,job-accomplishments</td>\n",
              "      <td>scott-surovell</td>\n",
              "      <td>State delegate</td>\n",
              "      <td>Virginia</td>\n",
              "      <td>democrat</td>\n",
              "      <td>0.0</td>\n",
              "      <td>0.0</td>\n",
              "      <td>1.0</td>\n",
              "      <td>1.0</td>\n",
              "      <td>0.0</td>\n",
              "      <td>a floor speech.</td>\n",
              "    </tr>\n",
              "    <tr>\n",
              "      <th>2</th>\n",
              "      <td>324.json</td>\n",
              "      <td>mostly-true</td>\n",
              "      <td>Hillary Clinton agrees with John McCain \"by vo...</td>\n",
              "      <td>foreign-policy</td>\n",
              "      <td>barack-obama</td>\n",
              "      <td>President</td>\n",
              "      <td>Illinois</td>\n",
              "      <td>democrat</td>\n",
              "      <td>70.0</td>\n",
              "      <td>71.0</td>\n",
              "      <td>160.0</td>\n",
              "      <td>163.0</td>\n",
              "      <td>9.0</td>\n",
              "      <td>Denver</td>\n",
              "    </tr>\n",
              "    <tr>\n",
              "      <th>3</th>\n",
              "      <td>1123.json</td>\n",
              "      <td>false</td>\n",
              "      <td>Health care reform legislation is likely to ma...</td>\n",
              "      <td>health-care</td>\n",
              "      <td>blog-posting</td>\n",
              "      <td>NaN</td>\n",
              "      <td>NaN</td>\n",
              "      <td>none</td>\n",
              "      <td>7.0</td>\n",
              "      <td>19.0</td>\n",
              "      <td>3.0</td>\n",
              "      <td>5.0</td>\n",
              "      <td>44.0</td>\n",
              "      <td>a news release</td>\n",
              "    </tr>\n",
              "    <tr>\n",
              "      <th>4</th>\n",
              "      <td>9028.json</td>\n",
              "      <td>half-true</td>\n",
              "      <td>The economic turnaround started at the end of ...</td>\n",
              "      <td>economy,jobs</td>\n",
              "      <td>charlie-crist</td>\n",
              "      <td>NaN</td>\n",
              "      <td>Florida</td>\n",
              "      <td>democrat</td>\n",
              "      <td>15.0</td>\n",
              "      <td>9.0</td>\n",
              "      <td>20.0</td>\n",
              "      <td>19.0</td>\n",
              "      <td>2.0</td>\n",
              "      <td>an interview on CNN</td>\n",
              "    </tr>\n",
              "    <tr>\n",
              "      <th>5</th>\n",
              "      <td>12465.json</td>\n",
              "      <td>true</td>\n",
              "      <td>The Chicago Bears have had more starting quart...</td>\n",
              "      <td>education</td>\n",
              "      <td>robin-vos</td>\n",
              "      <td>Wisconsin Assembly speaker</td>\n",
              "      <td>Wisconsin</td>\n",
              "      <td>republican</td>\n",
              "      <td>0.0</td>\n",
              "      <td>3.0</td>\n",
              "      <td>2.0</td>\n",
              "      <td>5.0</td>\n",
              "      <td>1.0</td>\n",
              "      <td>a an online opinion-piece</td>\n",
              "    </tr>\n",
              "    <tr>\n",
              "      <th>6</th>\n",
              "      <td>2342.json</td>\n",
              "      <td>barely-true</td>\n",
              "      <td>Jim Dunnam has not lived in the district he re...</td>\n",
              "      <td>candidates-biography</td>\n",
              "      <td>republican-party-texas</td>\n",
              "      <td>NaN</td>\n",
              "      <td>Texas</td>\n",
              "      <td>republican</td>\n",
              "      <td>3.0</td>\n",
              "      <td>1.0</td>\n",
              "      <td>1.0</td>\n",
              "      <td>3.0</td>\n",
              "      <td>1.0</td>\n",
              "      <td>a press release.</td>\n",
              "    </tr>\n",
              "    <tr>\n",
              "      <th>7</th>\n",
              "      <td>153.json</td>\n",
              "      <td>half-true</td>\n",
              "      <td>I'm the only person on this stage who has work...</td>\n",
              "      <td>ethics</td>\n",
              "      <td>barack-obama</td>\n",
              "      <td>President</td>\n",
              "      <td>Illinois</td>\n",
              "      <td>democrat</td>\n",
              "      <td>70.0</td>\n",
              "      <td>71.0</td>\n",
              "      <td>160.0</td>\n",
              "      <td>163.0</td>\n",
              "      <td>9.0</td>\n",
              "      <td>a Democratic debate in Philadelphia, Pa.</td>\n",
              "    </tr>\n",
              "    <tr>\n",
              "      <th>8</th>\n",
              "      <td>5602.json</td>\n",
              "      <td>half-true</td>\n",
              "      <td>However, it took $19.5 million in Oregon Lotte...</td>\n",
              "      <td>jobs</td>\n",
              "      <td>oregon-lottery</td>\n",
              "      <td>NaN</td>\n",
              "      <td>NaN</td>\n",
              "      <td>organization</td>\n",
              "      <td>0.0</td>\n",
              "      <td>0.0</td>\n",
              "      <td>1.0</td>\n",
              "      <td>0.0</td>\n",
              "      <td>1.0</td>\n",
              "      <td>a website</td>\n",
              "    </tr>\n",
              "    <tr>\n",
              "      <th>9</th>\n",
              "      <td>9741.json</td>\n",
              "      <td>mostly-true</td>\n",
              "      <td>Says GOP primary opponents Glenn Grothman and ...</td>\n",
              "      <td>energy,message-machine-2014,voting-record</td>\n",
              "      <td>duey-stroebel</td>\n",
              "      <td>State representative</td>\n",
              "      <td>Wisconsin</td>\n",
              "      <td>republican</td>\n",
              "      <td>0.0</td>\n",
              "      <td>0.0</td>\n",
              "      <td>0.0</td>\n",
              "      <td>1.0</td>\n",
              "      <td>0.0</td>\n",
              "      <td>an online video</td>\n",
              "    </tr>\n",
              "  </tbody>\n",
              "</table>\n",
              "</div>"
            ],
            "text/plain": [
              "           ID  ...                                     venue\n",
              "0   2635.json  ...                                  a mailer\n",
              "1  10540.json  ...                           a floor speech.\n",
              "2    324.json  ...                                    Denver\n",
              "3   1123.json  ...                            a news release\n",
              "4   9028.json  ...                       an interview on CNN\n",
              "5  12465.json  ...                 a an online opinion-piece\n",
              "6   2342.json  ...                          a press release.\n",
              "7    153.json  ...  a Democratic debate in Philadelphia, Pa.\n",
              "8   5602.json  ...                                a website \n",
              "9   9741.json  ...                           an online video\n",
              "\n",
              "[10 rows x 14 columns]"
            ]
          },
          "metadata": {
            "tags": []
          },
          "execution_count": 12
        }
      ]
    },
    {
      "cell_type": "code",
      "metadata": {
        "id": "_B_VbVbM1knt"
      },
      "source": [
        "new_Dataset = Dataset[['statement','label']]"
      ],
      "execution_count": 13,
      "outputs": []
    },
    {
      "cell_type": "code",
      "metadata": {
        "colab": {
          "base_uri": "https://localhost:8080/",
          "height": 197
        },
        "id": "hrlVs8B81knu",
        "outputId": "225ecb8d-b1c2-47c0-9380-d600eeeb36ad"
      },
      "source": [
        "new_Dataset.head()"
      ],
      "execution_count": 14,
      "outputs": [
        {
          "output_type": "execute_result",
          "data": {
            "text/html": [
              "<div>\n",
              "<style scoped>\n",
              "    .dataframe tbody tr th:only-of-type {\n",
              "        vertical-align: middle;\n",
              "    }\n",
              "\n",
              "    .dataframe tbody tr th {\n",
              "        vertical-align: top;\n",
              "    }\n",
              "\n",
              "    .dataframe thead th {\n",
              "        text-align: right;\n",
              "    }\n",
              "</style>\n",
              "<table border=\"1\" class=\"dataframe\">\n",
              "  <thead>\n",
              "    <tr style=\"text-align: right;\">\n",
              "      <th></th>\n",
              "      <th>statement</th>\n",
              "      <th>label</th>\n",
              "    </tr>\n",
              "  </thead>\n",
              "  <tbody>\n",
              "    <tr>\n",
              "      <th>0</th>\n",
              "      <td>Says the Annies List political group supports ...</td>\n",
              "      <td>false</td>\n",
              "    </tr>\n",
              "    <tr>\n",
              "      <th>1</th>\n",
              "      <td>When did the decline of coal start? It started...</td>\n",
              "      <td>half-true</td>\n",
              "    </tr>\n",
              "    <tr>\n",
              "      <th>2</th>\n",
              "      <td>Hillary Clinton agrees with John McCain \"by vo...</td>\n",
              "      <td>mostly-true</td>\n",
              "    </tr>\n",
              "    <tr>\n",
              "      <th>3</th>\n",
              "      <td>Health care reform legislation is likely to ma...</td>\n",
              "      <td>false</td>\n",
              "    </tr>\n",
              "    <tr>\n",
              "      <th>4</th>\n",
              "      <td>The economic turnaround started at the end of ...</td>\n",
              "      <td>half-true</td>\n",
              "    </tr>\n",
              "  </tbody>\n",
              "</table>\n",
              "</div>"
            ],
            "text/plain": [
              "                                           statement        label\n",
              "0  Says the Annies List political group supports ...        false\n",
              "1  When did the decline of coal start? It started...    half-true\n",
              "2  Hillary Clinton agrees with John McCain \"by vo...  mostly-true\n",
              "3  Health care reform legislation is likely to ma...        false\n",
              "4  The economic turnaround started at the end of ...    half-true"
            ]
          },
          "metadata": {
            "tags": []
          },
          "execution_count": 14
        }
      ]
    },
    {
      "cell_type": "code",
      "metadata": {
        "colab": {
          "base_uri": "https://localhost:8080/"
        },
        "id": "Rh3ajExC1knu",
        "outputId": "997514e5-3738-4d95-aa0a-7890c903fa04"
      },
      "source": [
        "new_Dataset.isnull().sum()"
      ],
      "execution_count": 15,
      "outputs": [
        {
          "output_type": "execute_result",
          "data": {
            "text/plain": [
              "statement    0\n",
              "label        0\n",
              "dtype: int64"
            ]
          },
          "metadata": {
            "tags": []
          },
          "execution_count": 15
        }
      ]
    },
    {
      "cell_type": "code",
      "metadata": {
        "colab": {
          "base_uri": "https://localhost:8080/"
        },
        "id": "LZDUxQkM1knv",
        "outputId": "911b8320-f6a4-4cf1-cad2-afece668b64a"
      },
      "source": [
        "new_Dataset['label'].value_counts()"
      ],
      "execution_count": 16,
      "outputs": [
        {
          "output_type": "execute_result",
          "data": {
            "text/plain": [
              "half-true      2627\n",
              "false          2507\n",
              "mostly-true    2454\n",
              "barely-true    2103\n",
              "true           2053\n",
              "pants-fire     1047\n",
              "Name: label, dtype: int64"
            ]
          },
          "metadata": {
            "tags": []
          },
          "execution_count": 16
        }
      ]
    },
    {
      "cell_type": "markdown",
      "metadata": {
        "id": "MjH7Kw0oDXWq"
      },
      "source": [
        "### **Removing stop words and lemmatization**\r\n",
        "\r\n"
      ]
    },
    {
      "cell_type": "code",
      "metadata": {
        "colab": {
          "base_uri": "https://localhost:8080/"
        },
        "id": "0353Lyi9NHop",
        "outputId": "ce79806d-7e66-46e8-9b76-3ebbac9fc555"
      },
      "source": [
        "from nltk.stem import WordNetLemmatizer\r\n",
        "import re\r\n",
        "from nltk.corpus import stopwords\r\n",
        "nltk.download('punkt')\r\n",
        "nltk.download('wordnet')\r\n"
      ],
      "execution_count": 17,
      "outputs": [
        {
          "output_type": "stream",
          "text": [
            "[nltk_data] Downloading package punkt to /root/nltk_data...\n",
            "[nltk_data]   Package punkt is already up-to-date!\n",
            "[nltk_data] Downloading package wordnet to /root/nltk_data...\n",
            "[nltk_data]   Package wordnet is already up-to-date!\n"
          ],
          "name": "stdout"
        },
        {
          "output_type": "execute_result",
          "data": {
            "text/plain": [
              "True"
            ]
          },
          "metadata": {
            "tags": []
          },
          "execution_count": 17
        }
      ]
    },
    {
      "cell_type": "code",
      "metadata": {
        "colab": {
          "base_uri": "https://localhost:8080/"
        },
        "id": "YW1yUVXSiDBD",
        "outputId": "7f132810-4acf-43d4-f545-1c464797ff64"
      },
      "source": [
        "nltk.download('stopwords')"
      ],
      "execution_count": 18,
      "outputs": [
        {
          "output_type": "stream",
          "text": [
            "[nltk_data] Downloading package stopwords to /root/nltk_data...\n",
            "[nltk_data]   Package stopwords is already up-to-date!\n"
          ],
          "name": "stdout"
        },
        {
          "output_type": "execute_result",
          "data": {
            "text/plain": [
              "True"
            ]
          },
          "metadata": {
            "tags": []
          },
          "execution_count": 18
        }
      ]
    },
    {
      "cell_type": "code",
      "metadata": {
        "id": "8wlhyhTHNV8k"
      },
      "source": [
        "wordnet_lemmatizer = WordNetLemmatizer()"
      ],
      "execution_count": 19,
      "outputs": []
    },
    {
      "cell_type": "code",
      "metadata": {
        "id": "BNl3Sb_XNLMD"
      },
      "source": [
        "for i in range(new_Dataset.shape[0]):\r\n",
        "    new_Dataset['statement'][i] = re.sub('[^A-Za-z ]+', '',new_Dataset['statement'][i])\r\n",
        "    words = word_tokenize(new_Dataset['statement'][i])\r\n",
        "    words = [wordnet_lemmatizer.lemmatize(word.lower(), pos='v') for word in words if word not in set(stopwords.words('english'))]\r\n",
        "    new_Dataset['statement'][i] = ' '.join(words)\r\n"
      ],
      "execution_count": 20,
      "outputs": []
    },
    {
      "cell_type": "code",
      "metadata": {
        "colab": {
          "base_uri": "https://localhost:8080/"
        },
        "id": "UNurdHg9lKKF",
        "outputId": "1f123528-4161-4291-fc3b-747c153b435a"
      },
      "source": [
        "X = new_Dataset['statement'].values\r\n",
        "Y = pd.get_dummies(new_Dataset['label']).values\r\n",
        "print('Shape of label tensor:', Y.shape)\r\n"
      ],
      "execution_count": 22,
      "outputs": [
        {
          "output_type": "stream",
          "text": [
            "Shape of label tensor: (12791, 6)\n"
          ],
          "name": "stdout"
        }
      ]
    },
    {
      "cell_type": "code",
      "metadata": {
        "colab": {
          "base_uri": "https://localhost:8080/"
        },
        "id": "8ysWwptcjNNW",
        "outputId": "0f7430b1-a221-499f-9c66-86b1540a8e4a"
      },
      "source": [
        "X_train, X_test, Y_train, Y_test = train_test_split(X,Y, test_size = 0.20, random_state = 42)\r\n",
        "print(X_train.shape,Y_train.shape)\r\n",
        "print(X_test.shape,Y_test.shape)"
      ],
      "execution_count": 23,
      "outputs": [
        {
          "output_type": "stream",
          "text": [
            "(10232,) (10232, 6)\n",
            "(2559,) (2559, 6)\n"
          ],
          "name": "stdout"
        }
      ]
    },
    {
      "cell_type": "markdown",
      "metadata": {
        "id": "iEp7IuPRD0_V"
      },
      "source": [
        "### **Vectorizing statements**"
      ]
    },
    {
      "cell_type": "markdown",
      "metadata": {
        "id": "Ctvs22peDgm5"
      },
      "source": [
        "*Vectorize statements, by turning each statement into either a sequence of integers or into a vector.*"
      ]
    },
    {
      "cell_type": "code",
      "metadata": {
        "colab": {
          "base_uri": "https://localhost:8080/"
        },
        "id": "Ry2KWtdkw8Eo",
        "outputId": "0f8b6418-4226-478b-bbee-5f0f23147481"
      },
      "source": [
        "from keras.preprocessing.text import Tokenizer\r\n",
        "\r\n",
        "tokenizer = Tokenizer(num_words=5000)\r\n",
        "tokenizer.fit_on_texts(X_train) #creating Vocabulory\r\n",
        "\r\n",
        "X_train = tokenizer.texts_to_sequences(X_train)\r\n",
        "X_test = tokenizer.texts_to_sequences(X_test)\r\n",
        "\r\n",
        "vocab_size = len(tokenizer.word_index) + 1  # Adding 1 because of reserved 0 index\r\n",
        "\r\n",
        "print(X_train[2])\r\n",
        "print(X_train[2])"
      ],
      "execution_count": 24,
      "outputs": [
        {
          "output_type": "stream",
          "text": [
            "[413, 400, 221, 3344, 14, 995, 2072, 2, 40]\n",
            "[413, 400, 221, 3344, 14, 995, 2072, 2, 40]\n"
          ],
          "name": "stdout"
        }
      ]
    },
    {
      "cell_type": "markdown",
      "metadata": {
        "id": "KgJ7TltODsuT"
      },
      "source": [
        "*Set the max number of words in each statement at 50.*"
      ]
    },
    {
      "cell_type": "code",
      "metadata": {
        "colab": {
          "base_uri": "https://localhost:8080/"
        },
        "id": "y-2YFq46xkDb",
        "outputId": "2554d0ff-2a38-416e-ffa5-2990cb89b052"
      },
      "source": [
        "from keras.preprocessing.sequence import pad_sequences\r\n",
        "\r\n",
        "maxlen = 50\r\n",
        "\r\n",
        "X_train = pad_sequences(X_train, padding='post', maxlen=maxlen)\r\n",
        "X_test = pad_sequences(X_test, padding='post', maxlen=maxlen)\r\n",
        "\r\n",
        "print(X_train[0, :])"
      ],
      "execution_count": 25,
      "outputs": [
        {
          "output_type": "stream",
          "text": [
            "[   1    2  234 2871  240  489  338  664  289    0    0    0    0    0\n",
            "    0    0    0    0    0    0    0    0    0    0    0    0    0    0\n",
            "    0    0    0    0    0    0    0    0    0    0    0    0    0    0\n",
            "    0    0    0    0    0    0    0    0]\n"
          ],
          "name": "stdout"
        }
      ]
    },
    {
      "cell_type": "markdown",
      "metadata": {
        "id": "dHB2I2MkENgu"
      },
      "source": [
        "### **Glove embedding**"
      ]
    },
    {
      "cell_type": "code",
      "metadata": {
        "id": "hcaENVAWxpfc"
      },
      "source": [
        "embedding_dim = 200\r\n",
        "\r\n",
        "embedding_matrix = np.zeros((vocab_size, embedding_dim))\r\n",
        "word_index = tokenizer.word_index\r\n",
        "\r\n",
        "with open('/content/drive/MyDrive/MLProject/glove.6B.200d.txt') as f:\r\n",
        "  for line in f:\r\n",
        "    word,*vector = line.split()\r\n",
        "    if word in word_index:\r\n",
        "      i = word_index[word] \r\n",
        "      embedding_matrix[i] = np.array(vector, dtype=np.float32)[:embedding_dim]"
      ],
      "execution_count": 26,
      "outputs": []
    },
    {
      "cell_type": "code",
      "metadata": {
        "colab": {
          "base_uri": "https://localhost:8080/"
        },
        "id": "bfAIVvObx3s1",
        "outputId": "bfa26d0b-0fa5-47e7-8c6f-0d4c5a6a646c"
      },
      "source": [
        "nonzero_elements = np.count_nonzero(np.count_nonzero(embedding_matrix, axis=1))\r\n",
        "nonzero_elements / vocab_size"
      ],
      "execution_count": 27,
      "outputs": [
        {
          "output_type": "execute_result",
          "data": {
            "text/plain": [
              "0.85908203125"
            ]
          },
          "metadata": {
            "tags": []
          },
          "execution_count": 27
        }
      ]
    },
    {
      "cell_type": "markdown",
      "metadata": {
        "id": "6i1a7jWHEvXZ"
      },
      "source": [
        "### **Building the model**"
      ]
    },
    {
      "cell_type": "code",
      "metadata": {
        "colab": {
          "base_uri": "https://localhost:8080/"
        },
        "id": "aFBdhCjbx8mZ",
        "outputId": "67a734a3-cefb-421e-e95b-d7e8009fedf8"
      },
      "source": [
        "from keras import layers\r\n",
        "\r\n",
        "model = Sequential()\r\n",
        "model.add(layers.Embedding(vocab_size, embedding_dim, \r\n",
        "                           weights=[embedding_matrix], \r\n",
        "                           input_length=maxlen,\r\n",
        "                           trainable = True))\r\n",
        "model.add(LSTM(100))\r\n",
        "model.add(layers.Dense(6, activation='softmax'))\r\n",
        "model.compile(optimizer='adam',\r\n",
        "              loss='categorical_crossentropy',\r\n",
        "              metrics=['accuracy'])\r\n",
        "model.summary()\r\n",
        "\r\n"
      ],
      "execution_count": 28,
      "outputs": [
        {
          "output_type": "stream",
          "text": [
            "Model: \"sequential\"\n",
            "_________________________________________________________________\n",
            "Layer (type)                 Output Shape              Param #   \n",
            "=================================================================\n",
            "embedding (Embedding)        (None, 50, 200)           2048000   \n",
            "_________________________________________________________________\n",
            "lstm (LSTM)                  (None, 100)               120400    \n",
            "_________________________________________________________________\n",
            "dense (Dense)                (None, 6)                 606       \n",
            "=================================================================\n",
            "Total params: 2,169,006\n",
            "Trainable params: 2,169,006\n",
            "Non-trainable params: 0\n",
            "_________________________________________________________________\n"
          ],
          "name": "stdout"
        }
      ]
    },
    {
      "cell_type": "markdown",
      "metadata": {
        "id": "J1RI0Phe_zv1"
      },
      "source": [
        "### **Fitting and saving the model**"
      ]
    },
    {
      "cell_type": "code",
      "metadata": {
        "id": "_4h4NyVk86mO"
      },
      "source": [
        "history = model.fit(X_train, Y_train,\r\n",
        "                    epochs=50,\r\n",
        "                    verbose=False,\r\n",
        "                    validation_data=(X_test, Y_test),\r\n",
        "                    batch_size=64)\r\n"
      ],
      "execution_count": 29,
      "outputs": []
    },
    {
      "cell_type": "code",
      "metadata": {
        "id": "csnv4sTSyFW5"
      },
      "source": [
        "model.save('/content/drive/MyDrive/MLProject/lstm_model.h5')"
      ],
      "execution_count": 30,
      "outputs": []
    },
    {
      "cell_type": "markdown",
      "metadata": {
        "id": "kod_a1xlFCDv"
      },
      "source": [
        "### **Finding Accuracy**"
      ]
    },
    {
      "cell_type": "code",
      "metadata": {
        "colab": {
          "base_uri": "https://localhost:8080/"
        },
        "id": "iqSPBLDCyCpt",
        "outputId": "93aa8120-c911-4da2-a0e8-49500ff809f8"
      },
      "source": [
        "\r\n",
        "print(\"Training Accuracy: %0.3f\"%model.evaluate(X_train, Y_train, verbose=False)[1])\r\n",
        " \r\n",
        "print(\"Testing Accuracy: %0.3f\"%model.evaluate(X_test, Y_test, verbose=False)[1])"
      ],
      "execution_count": 31,
      "outputs": [
        {
          "output_type": "stream",
          "text": [
            "Training Accuracy: 0.888\n",
            "Testing Accuracy: 0.216\n"
          ],
          "name": "stdout"
        }
      ]
    },
    {
      "cell_type": "markdown",
      "metadata": {
        "id": "AEDfjBczFHSS"
      },
      "source": [
        "### **Generating Confusion matrix**"
      ]
    },
    {
      "cell_type": "code",
      "metadata": {
        "id": "3IU44dzfvOMJ"
      },
      "source": [
        "predictions = model.predict_classes(X_test)"
      ],
      "execution_count": 34,
      "outputs": []
    },
    {
      "cell_type": "code",
      "metadata": {
        "colab": {
          "base_uri": "https://localhost:8080/"
        },
        "id": "ZY3dQ609zhQb",
        "outputId": "7723c812-95f2-4198-9602-2393f7787dc2"
      },
      "source": [
        "predictions"
      ],
      "execution_count": 35,
      "outputs": [
        {
          "output_type": "execute_result",
          "data": {
            "text/plain": [
              "array([0, 3, 3, ..., 1, 5, 1])"
            ]
          },
          "metadata": {
            "tags": []
          },
          "execution_count": 35
        }
      ]
    },
    {
      "cell_type": "code",
      "metadata": {
        "colab": {
          "base_uri": "https://localhost:8080/"
        },
        "id": "oMCLHtu703JG",
        "outputId": "2b60e05c-0606-4246-9628-50e8707af6b7"
      },
      "source": [
        "rounded_labels=np.argmax(Y_test, axis=1)\r\n",
        "rounded_labels"
      ],
      "execution_count": 39,
      "outputs": [
        {
          "output_type": "execute_result",
          "data": {
            "text/plain": [
              "array([0, 5, 0, ..., 1, 5, 2])"
            ]
          },
          "metadata": {
            "tags": []
          },
          "execution_count": 39
        }
      ]
    },
    {
      "cell_type": "code",
      "metadata": {
        "colab": {
          "base_uri": "https://localhost:8080/"
        },
        "id": "pH1Nv-WF0EWI",
        "outputId": "2ecda141-f398-427c-af5e-ce06dcbe9949"
      },
      "source": [
        "from sklearn.metrics import multilabel_confusion_matrix\r\n",
        "CM = multilabel_confusion_matrix(rounded_labels, predictions)\r\n",
        "print(CM)"
      ],
      "execution_count": 40,
      "outputs": [
        {
          "output_type": "stream",
          "text": [
            "[[[1730  389]\n",
            "  [ 347   93]]\n",
            "\n",
            " [[1720  341]\n",
            "  [ 396  102]]\n",
            "\n",
            " [[1420  581]\n",
            "  [ 384  174]]\n",
            "\n",
            " [[1706  362]\n",
            "  [ 402   89]]\n",
            "\n",
            " [[2274   87]\n",
            "  [ 166   32]]\n",
            "\n",
            " [[1939  246]\n",
            "  [ 311   63]]]\n"
          ],
          "name": "stdout"
        }
      ]
    },
    {
      "cell_type": "code",
      "metadata": {
        "colab": {
          "base_uri": "https://localhost:8080/"
        },
        "id": "fjJokQRY1gZM",
        "outputId": "16d548be-6556-4c76-ec06-cc7326d8c525"
      },
      "source": [
        "#importing confusion matrix\r\n",
        "from sklearn.metrics import confusion_matrix\r\n",
        "confusion = confusion_matrix(rounded_labels, predictions)\r\n",
        "print('Confusion Matrix\\n')\r\n",
        "print(confusion)"
      ],
      "execution_count": 44,
      "outputs": [
        {
          "output_type": "stream",
          "text": [
            "Confusion Matrix\n",
            "\n",
            "[[ 93  68 134  74  22  49]\n",
            " [103 102 140  82  27  44]\n",
            " [ 98  86 174 100  16  84]\n",
            " [ 87  96 148  89  12  59]\n",
            " [ 42  33  60  21  32  10]\n",
            " [ 59  58  99  85  10  63]]\n"
          ],
          "name": "stdout"
        }
      ]
    },
    {
      "cell_type": "code",
      "metadata": {
        "colab": {
          "base_uri": "https://localhost:8080/"
        },
        "id": "W7hGikea1u7s",
        "outputId": "b807ee1d-7c9c-4844-d1e2-395a1966981d"
      },
      "source": [
        "#importing accuracy_score, precision_score, recall_score, f1_score\r\n",
        "from sklearn.metrics import accuracy_score, precision_score, recall_score, f1_score\r\n",
        "print('\\nAccuracy: {:.2f}\\n'.format(accuracy_score(rounded_labels, predictions)))\r\n",
        "\r\n",
        "print('Micro Precision: {:.2f}'.format(precision_score(rounded_labels, predictions, average='micro')))\r\n",
        "print('Micro Recall: {:.2f}'.format(recall_score(rounded_labels, predictions, average='micro')))\r\n",
        "print('Micro F1-score: {:.2f}\\n'.format(f1_score(rounded_labels, predictions, average='micro')))\r\n",
        "\r\n",
        "\r\n",
        "\r\n",
        "from sklearn.metrics import classification_report\r\n",
        "print('\\nClassification Report\\n')\r\n",
        "print(classification_report(rounded_labels, predictions, target_names=['Class 0', 'Class 1', 'Class 2','Class 3','Class 4','Class 5']))"
      ],
      "execution_count": 46,
      "outputs": [
        {
          "output_type": "stream",
          "text": [
            "\n",
            "Accuracy: 0.22\n",
            "\n",
            "Micro Precision: 0.22\n",
            "Micro Recall: 0.22\n",
            "Micro F1-score: 0.22\n",
            "\n",
            "\n",
            "Classification Report\n",
            "\n",
            "              precision    recall  f1-score   support\n",
            "\n",
            "     Class 0       0.19      0.21      0.20       440\n",
            "     Class 1       0.23      0.20      0.22       498\n",
            "     Class 2       0.23      0.31      0.27       558\n",
            "     Class 3       0.20      0.18      0.19       491\n",
            "     Class 4       0.27      0.16      0.20       198\n",
            "     Class 5       0.20      0.17      0.18       374\n",
            "\n",
            "    accuracy                           0.22      2559\n",
            "   macro avg       0.22      0.21      0.21      2559\n",
            "weighted avg       0.22      0.22      0.21      2559\n",
            "\n"
          ],
          "name": "stdout"
        }
      ]
    }
  ]
}